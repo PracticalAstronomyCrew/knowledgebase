{
 "cells": [
  {
   "cell_type": "code",
   "execution_count": 1,
   "id": "33c717da-766f-4f04-b6e3-3460e28e2548",
   "metadata": {},
   "outputs": [],
   "source": [
    "from astropy.io import fits\n",
    "from astropy.coordinates import SkyCoord\n",
    "import matplotlib.pyplot as plt\n",
    "import numpy as np\n",
    "import numpy.ma as ma\n",
    "from astropy.stats import biweight_location\n",
    "from photutils.aperture import SkyCircularAperture, CircularAperture, aperture_photometry\n",
    "\n",
    "# default Gratama gain and readnoise\n",
    "gain=1.4\n",
    "rn=13.\n",
    "\n",
    "# make the plots BIG\n",
    "plt.rcParams['figure.figsize'] = [10,10]"
   ]
  },
  {
   "cell_type": "markdown",
   "id": "3daf8364-4183-427c-a61a-e5733c35515d",
   "metadata": {},
   "source": [
    "# Standard Star Fields"
   ]
  },
  {
   "cell_type": "markdown",
   "id": "5e92b591-5d92-4081-8048-6198aff54c75",
   "metadata": {},
   "source": [
    "We need to calibrate our data. The first step is to photometer our standard star images and then compare these measurements to the Landolt standard star data.\n",
    "\n",
    "In the following, I concentrate on inferring the B and V calibrations without corrections for atmospheric extinction (the airmass term). With some close reading, this notebook can be extended to cover R (and even I) band calibrations and atmospheric extinction."
   ]
  },
  {
   "cell_type": "code",
   "execution_count": 29,
   "id": "9e1c0066-c0f2-4aca-8f8a-aeb6215be392",
   "metadata": {},
   "outputs": [
    {
     "data": {
      "text/html": [
       "<div><i>Table length=930</i>\n",
       "<table id=\"table140327322220096\" class=\"table-striped table-bordered table-condensed\">\n",
       "<thead><tr><th>Name</th><th>RA</th><th>DEC</th><th>V</th><th>B-V</th><th>U-B</th><th>V-R</th><th>R-I</th><th>V-I</th><th>Nobs</th><th>Nn</th><th>e_V</th><th>e_B-V</th><th>e_U-B</th><th>e_V-R</th><th>e_R-I</th><th>e_V-I</th></tr></thead>\n",
       "<thead><tr><th>str12</th><th>str12</th><th>str12</th><th>float64</th><th>float64</th><th>float64</th><th>float64</th><th>float64</th><th>float64</th><th>int64</th><th>int64</th><th>float64</th><th>float64</th><th>float64</th><th>float64</th><th>float64</th><th>float64</th></tr></thead>\n",
       "<tr><td>TPhe I</td><td>00:30:04.593</td><td>-46:28:10.17</td><td>14.82</td><td>0.764</td><td>0.338</td><td>0.422</td><td>0.395</td><td>0.817</td><td>25</td><td>13</td><td>0.0026</td><td>0.0032</td><td>0.0072</td><td>0.0036</td><td>0.0098</td><td>0.011</td></tr>\n",
       "<tr><td>TPhe A</td><td>00:30:09.594</td><td>-46:31:28.91</td><td>14.651</td><td>0.793</td><td>0.38</td><td>0.435</td><td>0.405</td><td>0.841</td><td>29</td><td>12</td><td>0.0028</td><td>0.0046</td><td>0.0071</td><td>0.0019</td><td>0.0035</td><td>0.0032</td></tr>\n",
       "<tr><td>TPhe H</td><td>00:30:09.683</td><td>-46:27:24.30</td><td>14.942</td><td>0.74</td><td>0.225</td><td>0.425</td><td>0.425</td><td>0.851</td><td>23</td><td>12</td><td>0.0029</td><td>0.0029</td><td>0.0071</td><td>0.0035</td><td>0.0077</td><td>0.0098</td></tr>\n",
       "<tr><td>TPhe B</td><td>00:30:16.313</td><td>-46:27:58.57</td><td>12.334</td><td>0.405</td><td>0.156</td><td>0.262</td><td>0.271</td><td>0.535</td><td>29</td><td>17</td><td>0.0115</td><td>0.0026</td><td>0.0039</td><td>0.002</td><td>0.0019</td><td>0.0035</td></tr>\n",
       "<tr><td>TPhe C</td><td>00:30:16.980</td><td>-46:32:21.40</td><td>14.376</td><td>-0.298</td><td>-1.217</td><td>-0.148</td><td>-0.211</td><td>-0.36</td><td>39</td><td>23</td><td>0.0022</td><td>0.0024</td><td>0.0043</td><td>0.0038</td><td>0.0133</td><td>0.0149</td></tr>\n",
       "<tr><td>TPhe D</td><td>00:30:18.342</td><td>-46:31:19.85</td><td>13.118</td><td>1.551</td><td>1.871</td><td>0.849</td><td>0.81</td><td>1.663</td><td>37</td><td>23</td><td>0.0033</td><td>0.003</td><td>0.0118</td><td>0.0015</td><td>0.0023</td><td>0.003</td></tr>\n",
       "<tr><td>...</td><td>...</td><td>...</td><td>...</td><td>...</td><td>...</td><td>...</td><td>...</td><td>...</td><td>...</td><td>...</td><td>...</td><td>...</td><td>...</td><td>...</td><td>...</td><td>...</td></tr>\n",
       "<tr><td>SA 41-179</td><td>21:54:10.448</td><td>+45:16:31.11</td><td>11.868</td><td>0.498</td><td>0.177</td><td>0.291</td><td>0.296</td><td>0.586</td><td>9</td><td>4</td><td>0.0017</td><td>0.0014</td><td>0.0029</td><td>0.0011</td><td>0.0019</td><td>0.0004</td></tr>\n",
       "<tr><td>SA 41-182</td><td>21:54:12.587</td><td>+45:14:36.50</td><td>9.969</td><td>0.307</td><td>0.159</td><td>0.182</td><td>0.197</td><td>0.381</td><td>15</td><td>8</td><td>0.0009</td><td>0.0011</td><td>0.0007</td><td>0.0006</td><td>0.001</td><td>0.0012</td></tr>\n",
       "<tr><td>SA 41-190</td><td>21:54:18.195</td><td>+45:15:22.57</td><td>10.367</td><td>0.289</td><td>0.074</td><td>0.165</td><td>0.166</td><td>0.332</td><td>17</td><td>8</td><td>0.0012</td><td>0.0008</td><td>0.0009</td><td>0.0004</td><td>0.0004</td><td>0.001</td></tr>\n",
       "<tr><td>SA 41-204</td><td>21:54:31.607</td><td>+45:13:51.39</td><td>10.973</td><td>1.743</td><td>2.064</td><td>1.075</td><td>1.163</td><td>2.242</td><td>17</td><td>8</td><td>0.0033</td><td>0.0016</td><td>0.0075</td><td>0.0012</td><td>0.0011</td><td>0.002</td></tr>\n",
       "<tr><td>GD 405</td><td>23:16:43.875</td><td>+47:27:15.57</td><td>16.751</td><td>-0.166</td><td>-0.811</td><td>-0.517</td><td>--</td><td>--</td><td>2</td><td>1</td><td>0.0071</td><td>0.0057</td><td>0.017</td><td>0.0071</td><td>--</td><td>--</td></tr>\n",
       "<tr><td>GD 405A</td><td>23:16:44.966</td><td>+47:26:59.90</td><td>15.615</td><td>1.063</td><td>1.326</td><td>0.663</td><td>0.579</td><td>1.243</td><td>1</td><td>1</td><td>--</td><td>--</td><td>--</td><td>--</td><td>--</td><td>--</td></tr>\n",
       "<tr><td>GD 251</td><td>23:34:20.865</td><td>+29:18:36.99</td><td>15.745</td><td>-0.182</td><td>-1.003</td><td>-0.068</td><td>-0.171</td><td>-0.236</td><td>2</td><td>1</td><td>0.0198</td><td>0.0205</td><td>0.0071</td><td>0.0085</td><td>0.0424</td><td>0.0325</td></tr>\n",
       "</table></div>"
      ],
      "text/plain": [
       "<Table length=930>\n",
       "   Name        RA          DEC         V    ...  e_U-B   e_V-R   e_R-I   e_V-I \n",
       "  str12      str12        str12     float64 ... float64 float64 float64 float64\n",
       "--------- ------------ ------------ ------- ... ------- ------- ------- -------\n",
       "   TPhe I 00:30:04.593 -46:28:10.17   14.82 ...  0.0072  0.0036  0.0098   0.011\n",
       "   TPhe A 00:30:09.594 -46:31:28.91  14.651 ...  0.0071  0.0019  0.0035  0.0032\n",
       "   TPhe H 00:30:09.683 -46:27:24.30  14.942 ...  0.0071  0.0035  0.0077  0.0098\n",
       "   TPhe B 00:30:16.313 -46:27:58.57  12.334 ...  0.0039   0.002  0.0019  0.0035\n",
       "   TPhe C 00:30:16.980 -46:32:21.40  14.376 ...  0.0043  0.0038  0.0133  0.0149\n",
       "   TPhe D 00:30:18.342 -46:31:19.85  13.118 ...  0.0118  0.0015  0.0023   0.003\n",
       "      ...          ...          ...     ... ...     ...     ...     ...     ...\n",
       "SA 41-179 21:54:10.448 +45:16:31.11  11.868 ...  0.0029  0.0011  0.0019  0.0004\n",
       "SA 41-182 21:54:12.587 +45:14:36.50   9.969 ...  0.0007  0.0006   0.001  0.0012\n",
       "SA 41-190 21:54:18.195 +45:15:22.57  10.367 ...  0.0009  0.0004  0.0004   0.001\n",
       "SA 41-204 21:54:31.607 +45:13:51.39  10.973 ...  0.0075  0.0012  0.0011   0.002\n",
       "   GD 405 23:16:43.875 +47:27:15.57  16.751 ...   0.017  0.0071      --      --\n",
       "  GD 405A 23:16:44.966 +47:26:59.90  15.615 ...      --      --      --      --\n",
       "   GD 251 23:34:20.865 +29:18:36.99  15.745 ...  0.0071  0.0085  0.0424  0.0325"
      ]
     },
     "execution_count": 29,
     "metadata": {},
     "output_type": "execute_result"
    }
   ],
   "source": [
    "# read in the Landolt standard star data\n",
    "import astropy.units as u\n",
    "from astropy.wcs import WCS\n",
    "from astropy.coordinates import SkyCoord\n",
    "from astropy.table import Table, vstack\n",
    "\n",
    "landolt=Table.read('landolt_all.csv',format='ascii.csv')\n",
    "landolt"
   ]
  },
  {
   "cell_type": "code",
   "execution_count": 30,
   "id": "942da43f-af8f-4bd9-a3b8-0d455e6afe41",
   "metadata": {},
   "outputs": [],
   "source": [
    "# set up the positions for photometry\n",
    "positions_landolt = SkyCoord(landolt['RA'], landolt['DEC'], unit=(u.hourangle, u.deg), frame='icrs')\n",
    "#positions"
   ]
  },
  {
   "cell_type": "markdown",
   "id": "63eccb57-e989-4775-9c30-e78341e5ec7b",
   "metadata": {},
   "source": [
    "Now we need to read in our images. THese images __must__ be fully processed (e.g., bias-, dark-, and flat field-corrected) __and__ must have a world-coordinate system (WCS) (from, e.g., astrometry.net: [link](http:://astrometry.net)) __and__ airmasses in their headers."
   ]
  },
  {
   "cell_type": "code",
   "execution_count": null,
   "id": "5e6efcd2-aee0-4bf7-8557-e8428f8b22b2",
   "metadata": {},
   "outputs": [],
   "source": [
    "import glob\n",
    "fnames=glob.glob('./OAprocessed*Coord*-wcs.fits')\n",
    "fnames.sort()"
   ]
  },
  {
   "cell_type": "code",
   "execution_count": 35,
   "id": "ef872c7d-d78f-48b6-9d25-50ca76b0d5a9",
   "metadata": {},
   "outputs": [
    {
     "name": "stderr",
     "output_type": "stream",
     "text": [
      "WARNING: FITSFixedWarning: 'datfix' made the change 'Set MJD-OBS to 59714.862660 from DATE-OBS'. [astropy.wcs.wcs]\n"
     ]
    },
    {
     "name": "stdout",
     "output_type": "stream",
     "text": [
      "frame: ./OAprocessed_220515_Li_.00000031.Entered_Coordinates-wcs.fits exptime: 60.0 filter: V airmass: 1.014477388252 image center: <SkyCoord (FK5: equinox=2000.0): (ra, dec) in deg\n",
      "    (194.26101396, 43.90151544)>\n"
     ]
    },
    {
     "name": "stderr",
     "output_type": "stream",
     "text": [
      "WARNING: FITSFixedWarning: 'datfix' made the change 'Set MJD-OBS to 59714.862660 from DATE-OBS'. [astropy.wcs.wcs]\n",
      "WARNING: FITSFixedWarning: 'datfix' made the change 'Set MJD-OBS to 59714.863781 from DATE-OBS'. [astropy.wcs.wcs]\n"
     ]
    },
    {
     "name": "stdout",
     "output_type": "stream",
     "text": [
      "frame: ./OAprocessed_220515_Li_.00000032.Entered_Coordinates-wcs.fits exptime: 60.0 filter: R airmass: 1.014278393311 image center: <SkyCoord (FK5: equinox=2000.0): (ra, dec) in deg\n",
      "    (194.26140897, 43.9016745)>\n"
     ]
    },
    {
     "name": "stderr",
     "output_type": "stream",
     "text": [
      "WARNING: FITSFixedWarning: 'datfix' made the change 'Set MJD-OBS to 59714.863781 from DATE-OBS'. [astropy.wcs.wcs]\n",
      "WARNING: FITSFixedWarning: 'datfix' made the change 'Set MJD-OBS to 59714.864927 from DATE-OBS'. [astropy.wcs.wcs]\n"
     ]
    },
    {
     "name": "stdout",
     "output_type": "stream",
     "text": [
      "frame: ./OAprocessed_220515_Li_.00000033.Entered_Coordinates-wcs.fits exptime: 60.0 filter: B airmass: 1.014104115413 image center: <SkyCoord (FK5: equinox=2000.0): (ra, dec) in deg\n",
      "    (194.26127805, 43.90156814)>\n"
     ]
    },
    {
     "name": "stderr",
     "output_type": "stream",
     "text": [
      "WARNING: FITSFixedWarning: 'datfix' made the change 'Set MJD-OBS to 59714.864927 from DATE-OBS'. [astropy.wcs.wcs]\n",
      "WARNING: FITSFixedWarning: 'datfix' made the change 'Set MJD-OBS to 59714.866057 from DATE-OBS'. [astropy.wcs.wcs]\n"
     ]
    },
    {
     "name": "stdout",
     "output_type": "stream",
     "text": [
      "frame: ./OAprocessed_220515_Li_.00000034.Entered_Coordinates-wcs.fits exptime: 60.0 filter: V airmass: 1.013941418107 image center: <SkyCoord (FK5: equinox=2000.0): (ra, dec) in deg\n",
      "    (194.2621659, 43.90181369)>\n"
     ]
    },
    {
     "name": "stderr",
     "output_type": "stream",
     "text": [
      "WARNING: FITSFixedWarning: 'datfix' made the change 'Set MJD-OBS to 59714.866057 from DATE-OBS'. [astropy.wcs.wcs]\n",
      "WARNING: FITSFixedWarning: 'datfix' made the change 'Set MJD-OBS to 59714.867520 from DATE-OBS'. [astropy.wcs.wcs]\n"
     ]
    },
    {
     "name": "stdout",
     "output_type": "stream",
     "text": [
      "frame: ./OAprocessed_220515_Li_.00000035.Entered_Coordinates-wcs.fits exptime: 60.0 filter: B airmass: 1.013780348223 image center: <SkyCoord (FK5: equinox=2000.0): (ra, dec) in deg\n",
      "    (194.26310432, 43.90172956)>\n"
     ]
    },
    {
     "name": "stderr",
     "output_type": "stream",
     "text": [
      "WARNING: FITSFixedWarning: 'datfix' made the change 'Set MJD-OBS to 59714.867520 from DATE-OBS'. [astropy.wcs.wcs]\n",
      "WARNING: FITSFixedWarning: 'datfix' made the change 'Set MJD-OBS to 59714.868606 from DATE-OBS'. [astropy.wcs.wcs]\n"
     ]
    },
    {
     "name": "stdout",
     "output_type": "stream",
     "text": [
      "frame: ./OAprocessed_220515_Li_.00000036.Entered_Coordinates-wcs.fits exptime: 60.0 filter: R airmass: 1.013675116627 image center: <SkyCoord (FK5: equinox=2000.0): (ra, dec) in deg\n",
      "    (194.26446086, 43.90218468)>\n"
     ]
    },
    {
     "name": "stderr",
     "output_type": "stream",
     "text": [
      "WARNING: FITSFixedWarning: 'datfix' made the change 'Set MJD-OBS to 59714.868606 from DATE-OBS'. [astropy.wcs.wcs]\n"
     ]
    }
   ],
   "source": [
    "# do the photometry\n",
    "\n",
    "phot_tables={}\n",
    "filters=[]\n",
    "airmass=[]\n",
    "for f in fnames:\n",
    "    with fits.open(f) as hdu:\n",
    "        # get filter and airmass\n",
    "        filters.append(hdu[0].header['FILTER'])\n",
    "        airmass.append(hdu[0].header['AIRMASS'])\n",
    "        exptime = hdu[0].header['EXPTIME']\n",
    "        imshape = hdu[0].data.shape\n",
    "        # determine the sky position of the image center\n",
    "        wcs = WCS(hdu[0].header)\n",
    "        sky_imcenter = wcs.pixel_to_world(imshape[0]/2,imshape[1]/2)\n",
    "\n",
    "        print('frame: {} exptime: {} filter: {} airmass: {} image center: {}'.format(f,exptime,filters[-1],airmass[-1],sky_imcenter))\n",
    "\n",
    "        #select the proper landolt stars\n",
    "        sep=positions_landolt.separation(sky_imcenter)\n",
    "        positions=positions_landolt[sep<1.*u.deg]\n",
    "        names=landolt['Name'][sep<1.*u.deg]\n",
    "        V=landolt['V'][sep<1.*u.deg]\n",
    "        BmV=landolt['B-V'][sep<1.*u.deg]\n",
    "        VmR=landolt['V-R'][sep<1.*u.deg]\n",
    "        Nobs=landolt['Nobs'][sep<1.*u.deg]\n",
    "\n",
    "        # read frame and compute noise\n",
    "        fd = hdu[0].data * gain * exptime\n",
    "        fd2 = np.where(np.greater(fd, 0.), fd, 0.)\n",
    "        fderr = np.sqrt(fd2 + rn**2)\n",
    "        \n",
    "        # remove background\n",
    "        bkg_estimator = BiweightLocationBackground()\n",
    "        bkg = Background2D(fd, (50,50), filter_size=(3, 3), bkg_estimator=bkg_estimator)\n",
    "        fdnobkg = fd-bkg.background\n",
    "\n",
    "        # landolt photometry assumes 14\" (diameter) apertures\n",
    "        aperture = SkyCircularAperture(positions, r=7.*u.arcsec)\n",
    "\n",
    "        # get WCS\n",
    "        wcs = WCS(hdu[0].header)\n",
    "        # convert apertures to pixels\n",
    "        pix_aperture = aperture.to_pixel(wcs)\n",
    "        \n",
    "        # do the photometry\n",
    "        phot_table = aperture_photometry(fdnobkg, pix_aperture, error=fderr)\n",
    "        \n",
    "        # convert to magnitudes\n",
    "        apsum = ma.masked_less_equal(phot_table['aperture_sum'],0.)\n",
    "        phot_table['m{}'.format(filters[-1])] = -2.5*ma.log10(apsum) + 2.5*log10(exptime)\n",
    "        aperr = ma.masked_less_equal(phot_table['aperture_sum_err'],0.)\n",
    "        phot_table['e{}'.format(filters[-1])] = 2.5*log10(exp(1.))*aperr/apsum\n",
    "        # add the airmass to the output table\n",
    "        phot_table['Airmass'] = airmass[-1]*np.ones(phot_table['aperture_sum'].shape)\n",
    "        for col in phot_table.colnames:\n",
    "            phot_table[col].info.format = '%.8g'\n",
    "        \n",
    "        # add star names and Landolt photometry to the output table\n",
    "        phot_table['Name'] = names\n",
    "        phot_table['V'] = V\n",
    "        phot_table['B-V'] = BmV\n",
    "        phot_table['V-R'] = VmR\n",
    "        phot_table['Nobs'] = Nobs\n",
    "        try:\n",
    "            phot_tables[filters[-1]]=vstack([phot_tables[filters[-1]],phot_table])\n",
    "        except:\n",
    "            phot_tables[filters[-1]]=phot_table\n",
    "        # print(phot_tables[filters[-1]])"
   ]
  },
  {
   "cell_type": "code",
   "execution_count": 36,
   "id": "da7c9dde-7f26-4999-b129-9796e9f0bbbd",
   "metadata": {},
   "outputs": [],
   "source": [
    "#phot_tables['R'].show_in_notebook()"
   ]
  },
  {
   "cell_type": "code",
   "execution_count": 37,
   "id": "f01d5843-3018-4e32-bd8e-d227c831d138",
   "metadata": {},
   "outputs": [],
   "source": [
    "from numpy.linalg import svd\n",
    "\n",
    "# least-squares fitting using singular value decomposition\n",
    "def svdfit2(b,y,sigma):\n",
    "    b=b/sigma[:,np.newaxis]\n",
    "    y=y/sigma\n",
    "    ndeg=len(y)-b.shape[1]\n",
    "    u,w,v=svd(b, full_matrices=False)\n",
    "    s1=np.transpose(v)\n",
    "    s2=ma.divide(1.,w)\n",
    "    #print(s2)\n",
    "    s3=np.dot(np.transpose(u),y)\n",
    "    #print(s3.shape)\n",
    "    if any(s3):\n",
    "        sr=(s2*s3)\n",
    "        sol=np.dot(s1,sr)\n",
    "    else:\n",
    "        sol=np.zeros(s3.shape)\n",
    "    var=np.where(np.not_equal(w,0.),np.sum(np.power(v/w[:,np.newaxis],2),1),0.)\n",
    "    chi2=np.sum(np.power(y-np.sum(b*sol[np.newaxis,:],1),2))\n",
    "    return sol,var,chi2/ndeg"
   ]
  },
  {
   "cell_type": "markdown",
   "id": "7a5c6434-2673-4283-a3fd-ed93b688ce8d",
   "metadata": {},
   "source": [
    "Now we fit the data to produce the calibrations to give magnitude differences from the \"true\" (Landolt) magnitudes in terms of color (and airmass, if the range is large enough)."
   ]
  },
  {
   "cell_type": "code",
   "execution_count": 38,
   "id": "3111cd1a-ebe6-4e9d-ab09-3a1433eb0704",
   "metadata": {},
   "outputs": [
    {
     "name": "stdout",
     "output_type": "stream",
     "text": [
      "delta V =  20.551 +/-   0.001 +  -0.050 +/-   0.005 color\n"
     ]
    },
    {
     "data": {
      "image/png": "[encoded data removed]",
      "text/plain": [
       "<Figure size 720x720 with 1 Axes>"
      ]
     },
     "metadata": {
      "needs_background": "light"
     },
     "output_type": "display_data"
    },
    {
     "name": "stdout",
     "output_type": "stream",
     "text": [
      "delta R =  20.811 +/-   0.000 +  -0.095 +/-   0.007 color\n"
     ]
    },
    {
     "data": {
      "image/png": "[encoded data removed]",
      "text/plain": [
       "<Figure size 720x720 with 1 Axes>"
      ]
     },
     "metadata": {
      "needs_background": "light"
     },
     "output_type": "display_data"
    },
    {
     "name": "stdout",
     "output_type": "stream",
     "text": [
      "delta B =  20.208 +/-   0.001 +   0.200 +/-   0.010 color\n"
     ]
    },
    {
     "data": {
      "image/png": "[encoded data removed]",
      "text/plain": [
       "<Figure size 720x720 with 1 Axes>"
      ]
     },
     "metadata": {
      "needs_background": "light"
     },
     "output_type": "display_data"
    }
   ],
   "source": [
    "sols={}\n",
    "for filt in phot_tables.keys():\n",
    "    mask = np.logical_not(phot_tables[filt]['m{}'.format(filt)].mask) & np.greater(phot_tables[filt]['Nobs'],1)\n",
    "    if filt == 'V':\n",
    "        magtrue = np.array(np.compress(mask, phot_tables[filt]['V']))\n",
    "        magdiff = (phot_tables[filt]['V']-phot_tables[filt]['m{}'.format(filt)]).compressed()\n",
    "        color = np.array(np.compress(mask, phot_tables[filt]['B-V']))\n",
    "    elif filt == 'B':\n",
    "        magtrue = np.array(np.compress(mask, phot_tables[filt]['V']+phot_tables[filt]['B-V']))\n",
    "        magdiff = (phot_tables[filt]['V']+phot_tables[filt]['B-V']-phot_tables[filt]['m{}'.format(filt)]).compressed()\n",
    "        color = np.array(np.compress(mask, phot_tables[filt]['B-V']))\n",
    "    else: #filt == 'R'\n",
    "        magtrue = np.array(np.compress(mask, phot_tables[filt]['V']-phot_tables[filt]['V-R']))\n",
    "        magdiff = (phot_tables[filt]['V']-phot_tables[filt]['V-R']-phot_tables[filt]['m{}'.format(filt)]).compressed()\n",
    "        color = np.array(np.compress(mask, phot_tables[filt]['V-R']))\n",
    "    sigma = phot_tables[filt]['e{}'.format(filt)].compressed()\n",
    "    airmass = np.array(np.compress(mask, phot_tables[filt]['Airmass']))\n",
    "    aircolor = color * airmass\n",
    "    #print(filt,magdiff,magtrue,color,sigma,airmass,aircolor)\n",
    "    \n",
    "    # do the fitting\n",
    "    y=magdiff\n",
    "    basis=[]\n",
    "    basis.append(np.ones(y.shape))\n",
    "    basis.append(color)\n",
    "    ## if you have enough data to measure the extinction corrections, uncomment the following two lines\n",
    "    ## in that case, the sol and var arrays will have four entries, not two, and the inversion below requries a matrix inverstion\n",
    "    #basis.append(airmass)\n",
    "    #basis.append(aircolor)\n",
    "    basis=np.transpose(np.array(basis))\n",
    "    sol,var,chi2 = svdfit2(basis,y,sigma)\n",
    "    #print(filt,sol,np.sqrt(var),chi2)\n",
    "    print('delta {} = {:7.3f} +/- {:7.3f} + {:7.3f} +/- {:7.3f} color'.format(filt,sol[0],np.sqrt(var)[0],sol[1],np.sqrt(var)[1]))\n",
    "    sols[filt]=sol\n",
    "    \n",
    "    # plot the fit result\n",
    "    fig, ax = plt.subplots()\n",
    "    ax.scatter(color,magdiff)\n",
    "    ax.set(xlim=(0.,2.),ylim=(21.5,19.5))\n",
    "    ax.errorbar(color, magdiff, yerr=sigma, fmt='o')\n",
    "    ax.set_xlabel(r'color')\n",
    "    ax.set_ylabel(r'$\\Delta {}$'.format(filt))\n",
    "    x=np.arange(0,2.1,0.1)\n",
    "    y=sol[0]+x*sol[1]\n",
    "    ax.plot(x, y)\n",
    "    plt.show()\n",
    "\n"
   ]
  },
  {
   "cell_type": "markdown",
   "id": "590620fd-de54-47ae-9ff8-cf7fccec9336",
   "metadata": {},
   "source": [
    "# Apply the calibration"
   ]
  },
  {
   "cell_type": "markdown",
   "id": "3363ff36-1362-4a6e-ba4b-21b3ecf2c80c",
   "metadata": {},
   "source": [
    "The calibrations are given in the form $$X_{true}-X_{instrumental} = a_0 + a_1 \\times (X-Y)_{true}\\\\ Y_{true}-Y_{instrumental} = b_0 + b_1 \\times (X-Y)_{true},$$ so they need to be inverted to solve for $X_{true}$ (and $(X-Y)_{true}$) in terms of $X_{instrumental}$ and $(X-Y)_{instrumental}$.\n",
    "\n",
    "Here we assume that the $B$- and $V$-band photometry results are stored in astropy.Table tables called photB and photV, respectively."
   ]
  },
  {
   "cell_type": "code",
   "execution_count": 32,
   "id": "8baf7251-0ebe-4623-90bd-744f930574e5",
   "metadata": {},
   "outputs": [],
   "source": [
    "# invert the solutions from true mags to observed mags and the solve for the true mags\n",
    "a0=sols['B'][0] ; a1=sols['B'][1]\n",
    "b0=sols['V'][0] ; b1=sols['V'][1]\n",
    "#print(a0,a1,b0,b1)\n",
    "\n",
    "BmVtrue = (photB['B-V'] + a0-b0)/(1-a1+b1)\n",
    "Btrue = photB['magnitude'] + a0 + a1*BmVtrue\n",
    "Vtrue = photV['magnitude'] + b0 + b1*BmVtrue\n",
    "\n",
    "#print(BmVtrue, Btrue, Vtrue)"
   ]
  },
  {
   "cell_type": "code",
   "execution_count": 33,
   "id": "cbed3334-2401-48d7-9a21-7208d8966c21",
   "metadata": {},
   "outputs": [
    {
     "name": "stderr",
     "output_type": "stream",
     "text": [
      "/Users/sctrager/Python/anaconda3/lib/python3.9/site-packages/numpy/core/_asarray.py:171: UserWarning: Warning: converting a masked element to nan.\n",
      "  return array(a, dtype, copy=False, order=order, subok=True)\n"
     ]
    },
    {
     "data": {
      "image/png": "[encoded data removed]",
      "text/plain": [
       "<Figure size 720x720 with 1 Axes>"
      ]
     },
     "metadata": {
      "needs_background": "light"
     },
     "output_type": "display_data"
    }
   ],
   "source": [
    "# plot that sucker!\n",
    "fig, ax = plt.subplots()\n",
    "ax.scatter(BmVtrue, Vtrue)\n",
    "ax.set(xlim=(-0.5,2.),ylim=(18, 12))\n",
    "ax.errorbar(BmVtrue, Vtrue, xerr=photV['eB-V'], yerr=photV['magerr'], fmt='o')\n",
    "ax.set_xlabel(r'$(B-V)$')\n",
    "ax.set_ylabel(r'$V$')\n",
    "#plt.show()\n",
    "plt.savefig('G04_cmd_calibrated.pdf')"
   ]
  },
  {
   "cell_type": "code",
   "execution_count": null,
   "id": "5e934910-a466-48bf-a9f9-eda9e2097722",
   "metadata": {},
   "outputs": [],
   "source": []
  }
 ],
 "metadata": {
  "kernelspec": {
   "display_name": "Python 3 (ipykernel)",
   "language": "python",
   "name": "python3"
  },
  "language_info": {
   "codemirror_mode": {
    "name": "ipython",
    "version": 3
   },
   "file_extension": ".py",
   "mimetype": "text/x-python",
   "name": "python",
   "nbconvert_exporter": "python",
   "pygments_lexer": "ipython3",
   "version": "3.9.7"
  }
 },
 "nbformat": 4,
 "nbformat_minor": 5
}
