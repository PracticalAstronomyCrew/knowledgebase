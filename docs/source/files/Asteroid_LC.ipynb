{
 "cells": [
  {
   "cell_type": "code",
   "execution_count": 1,
   "id": "0ca09055",
   "metadata": {},
   "outputs": [],
   "source": [
    "import pandas as pd"
   ]
  },
  {
   "cell_type": "code",
   "execution_count": 31,
   "id": "5c47926e",
   "metadata": {},
   "outputs": [
    {
     "name": "stderr",
     "output_type": "stream",
     "text": [
      "C:\\ProgramData\\Anaconda3\\lib\\site-packages\\IPython\\core\\interactiveshell.py:3444: DtypeWarning: Columns (3) have mixed types.Specify dtype option on import or set low_memory=False.\n",
      "  exec(code_obj, self.user_global_ns, self.user_ns)\n"
     ]
    },
    {
     "data": {
      "text/html": [
       "<div>\n",
       "<style scoped>\n",
       "    .dataframe tbody tr th:only-of-type {\n",
       "        vertical-align: middle;\n",
       "    }\n",
       "\n",
       "    .dataframe tbody tr th {\n",
       "        vertical-align: top;\n",
       "    }\n",
       "\n",
       "    .dataframe thead th {\n",
       "        text-align: right;\n",
       "    }\n",
       "</style>\n",
       "<table border=\"1\" class=\"dataframe\">\n",
       "  <thead>\n",
       "    <tr style=\"text-align: right;\">\n",
       "      <th></th>\n",
       "      <th>ID Number</th>\n",
       "      <th>Magnitude</th>\n",
       "      <th>Period</th>\n",
       "      <th>AmpMin</th>\n",
       "      <th>AmpMax</th>\n",
       "    </tr>\n",
       "  </thead>\n",
       "  <tbody>\n",
       "    <tr>\n",
       "      <th>0</th>\n",
       "      <td>1.0</td>\n",
       "      <td>3.53</td>\n",
       "      <td>9.07417</td>\n",
       "      <td>0.03</td>\n",
       "      <td>0.06</td>\n",
       "    </tr>\n",
       "    <tr>\n",
       "      <th>1</th>\n",
       "      <td>7.0</td>\n",
       "      <td>5.60</td>\n",
       "      <td>7.13900</td>\n",
       "      <td>0.02</td>\n",
       "      <td>0.37</td>\n",
       "    </tr>\n",
       "    <tr>\n",
       "      <th>2</th>\n",
       "      <td>9.0</td>\n",
       "      <td>6.33</td>\n",
       "      <td>5.07900</td>\n",
       "      <td>0.05</td>\n",
       "      <td>0.32</td>\n",
       "    </tr>\n",
       "    <tr>\n",
       "      <th>3</th>\n",
       "      <td>14.0</td>\n",
       "      <td>6.30</td>\n",
       "      <td>15.02800</td>\n",
       "      <td>0.03</td>\n",
       "      <td>0.16</td>\n",
       "    </tr>\n",
       "    <tr>\n",
       "      <th>4</th>\n",
       "      <td>18.0</td>\n",
       "      <td>6.50</td>\n",
       "      <td>11.57000</td>\n",
       "      <td>0.10</td>\n",
       "      <td>0.34</td>\n",
       "    </tr>\n",
       "  </tbody>\n",
       "</table>\n",
       "</div>"
      ],
      "text/plain": [
       "   ID Number  Magnitude    Period  AmpMin  AmpMax\n",
       "0        1.0       3.53   9.07417    0.03    0.06\n",
       "1        7.0       5.60   7.13900    0.02    0.37\n",
       "2        9.0       6.33   5.07900    0.05    0.32\n",
       "3       14.0       6.30  15.02800    0.03    0.16\n",
       "4       18.0       6.50  11.57000    0.10    0.34"
      ]
     },
     "execution_count": 31,
     "metadata": {},
     "output_type": "execute_result"
    }
   ],
   "source": [
    "roids = pd.read_csv('lc_summarys.csv')\n",
    "\n",
    "#List of Asteroid Numbers to try\n",
    "TryThese = [1,7,9,14,18]\n",
    "\n",
    "this = pd.DataFrame(columns=['ID Number','Magnitude','Period','AmpMin','AmpMax'])\n",
    "\n",
    "for Possible in TryThese:\n",
    "    this.loc[len(this)] = [Possible, roids[roids['Number'] == Possible]['H'].values[0],\n",
    "                       roids[roids['Number'] == Possible]['Period'].values[0],\n",
    "                       roids[roids['Number'] == Possible]['AmpMin'].values[0],\n",
    "                       roids[roids['Number'] == Possible]['AmpMax'].values[0]]\n",
    "this.head(20)\n",
    "\n",
    "#The output Magnitude is the H-Absolute Magnitude, use the list in InTheSky to find current apparent magnitudes\n",
    "#The Period is in hours\n",
    "#AmpMin and AmpMax give the minimum and maximum amplitudes of the light curve in apparent magnitudes\n"
   ]
  }
 ],
 "metadata": {
  "kernelspec": {
   "display_name": "Python 3 (ipykernel)",
   "language": "python",
   "name": "python3"
  },
  "language_info": {
   "codemirror_mode": {
    "name": "ipython",
    "version": 3
   },
   "file_extension": ".py",
   "mimetype": "text/x-python",
   "name": "python",
   "nbconvert_exporter": "python",
   "pygments_lexer": "ipython3",
   "version": "3.9.7"
  }
 },
 "nbformat": 4,
 "nbformat_minor": 5
}
